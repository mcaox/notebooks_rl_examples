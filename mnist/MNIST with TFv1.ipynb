{
 "cells": [
  {
   "cell_type": "markdown",
   "metadata": {},
   "source": [
    "# MNIST Prediction Using Tensorflow v1.15"
   ]
  },
  {
   "cell_type": "code",
   "execution_count": 1,
   "metadata": {},
   "outputs": [],
   "source": [
    "import numpy as np\n",
    "import tensorflow as tf\n",
    "from dython.model_utils import roc_graph, _ROC_PLOT_COLORS\n",
    "from tensorflow.examples.tutorials.mnist import input_data"
   ]
  },
  {
   "cell_type": "markdown",
   "metadata": {},
   "source": [
    "## Hyper-parameters"
   ]
  },
  {
   "cell_type": "code",
   "execution_count": 2,
   "metadata": {},
   "outputs": [],
   "source": [
    "epochs = 5000\n",
    "batch_size = 50\n",
    "learning_rate = 1e-4\n",
    "dropout_keep_prob = 0.5"
   ]
  },
  {
   "cell_type": "markdown",
   "metadata": {},
   "source": [
    "## Initialization"
   ]
  },
  {
   "cell_type": "code",
   "execution_count": 3,
   "metadata": {},
   "outputs": [],
   "source": [
    "tf.reset_default_graph()\n",
    "mnist = input_data.read_data_sets('MNIST_data', one_hot=True)"
   ]
  },
  {
   "cell_type": "markdown",
   "metadata": {},
   "source": [
    "## Tensorflow Graph\n",
    "### Decalring Inputs"
   ]
  },
  {
   "cell_type": "code",
   "execution_count": 4,
   "metadata": {},
   "outputs": [],
   "source": [
    "x = tf.placeholder(tf.float32, shape=[None, 784], name='x')\n",
    "y = tf.placeholder(tf.float32, shape=[None, 10], name='y')\n",
    "keep_prob = tf.placeholder(tf.float32, name='keep_prob')\n",
    "lr = tf.placeholder(tf.float32, name='learning_rate')"
   ]
  },
  {
   "cell_type": "markdown",
   "metadata": {},
   "source": [
    "### Graph Construction\n",
    "The images are saved as one-dimensional arrays. We'll want to reshape them to two-dimensional arrays in order to feed them into convolution layers. This is performed at the first line below.\n",
    "\n",
    "The network consists of two blocks of layers made of [Convolution, ReLU, Max Pooling], followed by two dense layers and a dropout betwwen them."
   ]
  },
  {
   "cell_type": "code",
   "execution_count": 5,
   "metadata": {},
   "outputs": [],
   "source": [
    "layer = tf.reshape(x, [-1, 28, 28, 1])  # [batch_size, image_height, image_width, color_channels]\n",
    "layer = tf.nn.conv2d(layer, tf.Variable(tf.random.truncated_normal([5, 5, 1, 32], stddev=0.1)),\n",
    "                     strides=[1, 1, 1, 1], padding='SAME')\n",
    "layer = tf.nn.relu(layer + tf.Variable(tf.constant(0.1, shape=[32])))\n",
    "layer = tf.nn.max_pool2d(layer, ksize=[1, 2, 2, 1], strides=[1, 2, 2, 1], padding='SAME')\n",
    "layer = tf.nn.conv2d(layer, tf.Variable(tf.truncated_normal([5, 5, 32, 64], stddev=0.1)),\n",
    "                     strides=[1, 1, 1, 1], padding='SAME')\n",
    "layer = tf.nn.relu(layer + tf.Variable(tf.constant(0.1, shape=[64])))\n",
    "layer = tf.nn.max_pool2d(layer, ksize=[1, 2, 2, 1], strides=[1, 2, 2, 1], padding='SAME')\n",
    "layer = tf.reshape(layer, [-1, 7*7*64])  # image size is now 7x7 with 64 channels\n",
    "layer = tf.layers.dense(inputs=layer, units=1024, activation=tf.nn.relu)\n",
    "layer = tf.nn.dropout(layer, keep_prob)\n",
    "layer = tf.layers.dense(inputs=layer, units=10)\n",
    "output = tf.nn.softmax(layer)"
   ]
  },
  {
   "cell_type": "markdown",
   "metadata": {},
   "source": [
    "### Graph Optimization"
   ]
  },
  {
   "cell_type": "code",
   "execution_count": 6,
   "metadata": {},
   "outputs": [],
   "source": [
    "cost = tf.reduce_mean(tf.losses.softmax_cross_entropy(onehot_labels=y, logits=layer))\n",
    "optimizer = tf.train.AdamOptimizer(lr).minimize(cost)"
   ]
  },
  {
   "cell_type": "markdown",
   "metadata": {},
   "source": [
    "### Graph Saver"
   ]
  },
  {
   "cell_type": "code",
   "execution_count": 7,
   "metadata": {},
   "outputs": [],
   "source": [
    "saver = tf.train.Saver()\n",
    "filename = 'best_model.ckpt'"
   ]
  },
  {
   "cell_type": "markdown",
   "metadata": {},
   "source": [
    "## Training"
   ]
  },
  {
   "cell_type": "code",
   "execution_count": 8,
   "metadata": {},
   "outputs": [
    {
     "name": "stdout",
     "output_type": "stream",
     "text": [
      "Epoch 1: Accuracy: 16.5% | Cost: 2.794\n",
      "Saving model to best_model.ckpt [Accuracy: 16.5%]\n",
      "Epoch 100: Accuracy: 88.7% | Cost: 0.604\n",
      "Saving model to best_model.ckpt [Accuracy: 88.7%]\n",
      "Epoch 200: Accuracy: 92.3% | Cost: 0.385\n",
      "Saving model to best_model.ckpt [Accuracy: 92.3%]\n",
      "Epoch 300: Accuracy: 92.9% | Cost: 0.268\n",
      "Saving model to best_model.ckpt [Accuracy: 92.9%]\n",
      "Epoch 400: Accuracy: 94.6% | Cost: 0.298\n",
      "Saving model to best_model.ckpt [Accuracy: 94.6%]\n",
      "Epoch 500: Accuracy: 94.9% | Cost: 0.280\n",
      "Saving model to best_model.ckpt [Accuracy: 94.9%]\n",
      "Epoch 600: Accuracy: 96.2% | Cost: 0.203\n",
      "Saving model to best_model.ckpt [Accuracy: 96.2%]\n",
      "Epoch 700: Accuracy: 96.3% | Cost: 0.235\n",
      "Saving model to best_model.ckpt [Accuracy: 96.3%]\n",
      "Epoch 800: Accuracy: 96.5% | Cost: 0.203\n",
      "Saving model to best_model.ckpt [Accuracy: 96.5%]\n",
      "Epoch 900: Accuracy: 97.0% | Cost: 0.263\n",
      "Saving model to best_model.ckpt [Accuracy: 97.0%]\n",
      "Epoch 1000: Accuracy: 96.8% | Cost: 0.152\n",
      "Epoch 1100: Accuracy: 97.3% | Cost: 0.088\n",
      "Saving model to best_model.ckpt [Accuracy: 97.3%]\n",
      "Epoch 1200: Accuracy: 97.3% | Cost: 0.113\n",
      "Saving model to best_model.ckpt [Accuracy: 97.3%]\n",
      "Epoch 1300: Accuracy: 97.5% | Cost: 0.135\n",
      "Saving model to best_model.ckpt [Accuracy: 97.5%]\n",
      "Epoch 1400: Accuracy: 97.7% | Cost: 0.124\n",
      "Saving model to best_model.ckpt [Accuracy: 97.7%]\n",
      "Epoch 1500: Accuracy: 97.9% | Cost: 0.050\n",
      "Saving model to best_model.ckpt [Accuracy: 97.9%]\n",
      "Epoch 1600: Accuracy: 97.8% | Cost: 0.127\n",
      "Epoch 1700: Accuracy: 98.1% | Cost: 0.187\n",
      "Saving model to best_model.ckpt [Accuracy: 98.1%]\n",
      "Epoch 1800: Accuracy: 97.8% | Cost: 0.200\n",
      "Epoch 1900: Accuracy: 98.1% | Cost: 0.145\n",
      "Saving model to best_model.ckpt [Accuracy: 98.1%]\n",
      "Epoch 2000: Accuracy: 98.3% | Cost: 0.069\n",
      "Saving model to best_model.ckpt [Accuracy: 98.3%]\n",
      "Epoch 2100: Accuracy: 98.3% | Cost: 0.024\n",
      "Saving model to best_model.ckpt [Accuracy: 98.3%]\n",
      "Epoch 2200: Accuracy: 98.5% | Cost: 0.105\n",
      "Saving model to best_model.ckpt [Accuracy: 98.5%]\n",
      "Epoch 2300: Accuracy: 98.5% | Cost: 0.087\n",
      "Saving model to best_model.ckpt [Accuracy: 98.5%]\n",
      "Epoch 2400: Accuracy: 98.5% | Cost: 0.005\n",
      "Epoch 2500: Accuracy: 98.5% | Cost: 0.025\n",
      "Epoch 2600: Accuracy: 98.6% | Cost: 0.043\n",
      "Saving model to best_model.ckpt [Accuracy: 98.6%]\n",
      "Epoch 2700: Accuracy: 98.7% | Cost: 0.030\n",
      "Saving model to best_model.ckpt [Accuracy: 98.7%]\n",
      "Epoch 2800: Accuracy: 98.5% | Cost: 0.043\n",
      "Epoch 2900: Accuracy: 98.8% | Cost: 0.007\n",
      "Saving model to best_model.ckpt [Accuracy: 98.8%]\n",
      "Epoch 3000: Accuracy: 98.5% | Cost: 0.032\n",
      "Epoch 3100: Accuracy: 98.6% | Cost: 0.062\n",
      "Epoch 3200: Accuracy: 98.7% | Cost: 0.129\n",
      "Epoch 3300: Accuracy: 98.7% | Cost: 0.059\n",
      "Epoch 3400: Accuracy: 98.8% | Cost: 0.062\n",
      "Saving model to best_model.ckpt [Accuracy: 98.8%]\n",
      "Epoch 3500: Accuracy: 98.8% | Cost: 0.101\n",
      "Epoch 3600: Accuracy: 98.8% | Cost: 0.005\n",
      "Saving model to best_model.ckpt [Accuracy: 98.8%]\n",
      "Epoch 3700: Accuracy: 98.7% | Cost: 0.040\n",
      "Epoch 3800: Accuracy: 98.9% | Cost: 0.029\n",
      "Saving model to best_model.ckpt [Accuracy: 98.9%]\n",
      "Epoch 3900: Accuracy: 98.8% | Cost: 0.008\n",
      "Epoch 4000: Accuracy: 98.9% | Cost: 0.133\n",
      "Epoch 4100: Accuracy: 98.7% | Cost: 0.055\n",
      "Epoch 4200: Accuracy: 98.9% | Cost: 0.102\n",
      "Epoch 4300: Accuracy: 98.8% | Cost: 0.004\n",
      "Epoch 4400: Accuracy: 98.8% | Cost: 0.020\n",
      "Epoch 4500: Accuracy: 98.7% | Cost: 0.012\n",
      "Epoch 4600: Accuracy: 98.9% | Cost: 0.028\n",
      "Saving model to best_model.ckpt [Accuracy: 98.9%]\n",
      "Epoch 4700: Accuracy: 98.8% | Cost: 0.054\n",
      "Epoch 4800: Accuracy: 98.8% | Cost: 0.115\n",
      "Epoch 4900: Accuracy: 98.9% | Cost: 0.011\n",
      "Epoch 5000: Accuracy: 98.9% | Cost: 0.016\n",
      "Saving model to best_model.ckpt [Accuracy: 98.9%]\n"
     ]
    }
   ],
   "source": [
    "best_acc = 0.\n",
    "with tf.Session() as sess:\n",
    "    sess.run(tf.global_variables_initializer())\n",
    "    y_true = np.argmax(mnist.test.labels, axis=1)\n",
    "    for i in range(1, epochs+1):\n",
    "        batch = mnist.train.next_batch(batch_size)\n",
    "        c, _ = sess.run([cost, optimizer], feed_dict={x: batch[0], y: batch[1],\n",
    "                                                      lr: learning_rate, keep_prob: dropout_keep_prob})\n",
    "        if i % 100 == 0 or i == 1:\n",
    "            y_pred = np.argmax(sess.run(output, feed_dict={x: mnist.test.images, keep_prob: 1.}), axis=1)\n",
    "            acc = 100 * np.sum(np.equal(y_true, y_pred)) / len(y_true)\n",
    "            print(f'Epoch {i}: Accuracy: {acc:.1f}% | Cost: {c:.3f}')\n",
    "            if acc >= best_acc:\n",
    "                best_acc = acc\n",
    "                saver.save(sess, filename)\n",
    "                print(f\"Saving model to {filename} [Accuracy: {best_acc:.1f}%]\")"
   ]
  },
  {
   "cell_type": "markdown",
   "metadata": {},
   "source": [
    "## Best Model Reevaluation\n",
    "This section reloads the best model achieved during training, and computes ROC graphs for each class. "
   ]
  },
  {
   "cell_type": "code",
   "execution_count": 9,
   "metadata": {},
   "outputs": [
    {
     "name": "stdout",
     "output_type": "stream",
     "text": [
      "INFO:tensorflow:Restoring parameters from best_model.ckpt\n",
      "--------\n",
      "Best accuracy: 98.9%\n"
     ]
    },
    {
     "data": {
      "image/png": "[encoded data removed]",
      "text/plain": [
       "<Figure size 504x504 with 1 Axes>"
      ]
     },
     "metadata": {
      "needs_background": "light"
     },
     "output_type": "display_data"
    }
   ],
   "source": [
    "with tf.Session() as sess:\n",
    "    saver.restore(sess, filename)\n",
    "    y_pred = sess.run(output, feed_dict={x: mnist.test.images, keep_prob: 1.})\n",
    "    acc = 100 * np.sum(np.equal(y_true, np.argmax(y_pred, axis=1))) / len(y_true)\n",
    "    print(f'--------\\nBest accuracy: {acc:.1f}%')\n",
    "    roc_graph(y_true=mnist.test.labels, y_pred=y_pred,\n",
    "              filename='roc_graph.png', title='MNIST ROC Graphs',\n",
    "              colors=_ROC_PLOT_COLORS + ['darkviolet', 'maroon'],\n",
    "              figsize=(7, 7))"
   ]
  },
  {
   "cell_type": "code",
   "execution_count": null,
   "metadata": {},
   "outputs": [],
   "source": []
  }
 ],
 "metadata": {
  "kernelspec": {
   "display_name": "Python 3",
   "language": "python",
   "name": "python3"
  },
  "language_info": {
   "codemirror_mode": {
    "name": "ipython",
    "version": 3
   },
   "file_extension": ".py",
   "mimetype": "text/x-python",
   "name": "python",
   "nbconvert_exporter": "python",
   "pygments_lexer": "ipython3",
   "version": "3.6.5"
  }
 },
 "nbformat": 4,
 "nbformat_minor": 2
}
